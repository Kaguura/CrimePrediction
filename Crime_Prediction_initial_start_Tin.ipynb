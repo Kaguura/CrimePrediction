{
 "cells": [
  {
   "cell_type": "markdown",
   "metadata": {
    "colab_type": "text",
    "id": "view-in-github"
   },
   "source": [
    "<a href=\"https://colab.research.google.com/github/Kaguura/CrimePrediction/blob/master/Crime_Prediction_initial_start_Tin.ipynb\" target=\"_parent\"><img src=\"https://colab.research.google.com/assets/colab-badge.svg\" alt=\"Open In Colab\"/></a>"
   ]
  },
  {
   "cell_type": "code",
   "execution_count": 17,
   "metadata": {
    "colab": {
     "base_uri": "https://localhost:8080/",
     "height": 91,
     "resources": {
      "http://localhost:8080/nbextensions/google.colab/files.js": {
       "data": "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",
       "headers": [
        [
         "content-type",
         "application/javascript"
        ]
       ],
       "ok": true,
       "status": 200,
       "status_text": ""
      }
     }
    },
    "colab_type": "code",
    "id": "66xGtUBWhFAB",
    "outputId": "57234381-7737-4aa3-a684-5e160566375b"
   },
   "outputs": [
    {
     "data": {
      "text/html": [
       "\n",
       "     <input type=\"file\" id=\"files-a43d9754-3563-46d6-a844-f3794dbc60a8\" name=\"files[]\" multiple disabled />\n",
       "     <output id=\"result-a43d9754-3563-46d6-a844-f3794dbc60a8\">\n",
       "      Upload widget is only available when the cell has been executed in the\n",
       "      current browser session. Please rerun this cell to enable.\n",
       "      </output>\n",
       "      <script src=\"/nbextensions/google.colab/files.js\"></script> "
      ],
      "text/plain": [
       "<IPython.core.display.HTML object>"
      ]
     },
     "metadata": {
      "tags": []
     },
     "output_type": "display_data"
    },
    {
     "name": "stdout",
     "output_type": "stream",
     "text": [
      "Saving kaggle.json to kaggle.json\n"
     ]
    },
    {
     "data": {
      "text/plain": [
       "{'kaggle.json': b'{\"username\":\"nthanhtin\",\"key\":\"129c282ddb6f728f45fbd5b7758088ed\"}'}"
      ]
     },
     "execution_count": 17,
     "metadata": {
      "tags": []
     },
     "output_type": "execute_result"
    }
   ],
   "source": [
    "#code run on google colab so you don't have to use your slow computer.\n",
    "from google.colab import files\n",
    "files.upload()\n",
    "#upload your kaggle.json here to download dataset."
   ]
  },
  {
   "cell_type": "code",
   "execution_count": 18,
   "metadata": {
    "colab": {
     "base_uri": "https://localhost:8080/",
     "height": 34
    },
    "colab_type": "code",
    "id": "49BQkdAkhNYo",
    "outputId": "da8c3c7c-a7d8-47bf-c28d-3037b79d7517"
   },
   "outputs": [
    {
     "name": "stdout",
     "output_type": "stream",
     "text": [
      "kaggle.json\n"
     ]
    }
   ],
   "source": [
    "!mkdir -p ~/.kaggle\n",
    "!cp kaggle.json ~/.kaggle/\n",
    "!chmod 600 ~/.kaggle/kaggle.json\n",
    "!ls ~/.kaggle"
   ]
  },
  {
   "cell_type": "code",
   "execution_count": 20,
   "metadata": {
    "colab": {
     "base_uri": "https://localhost:8080/",
     "height": 136
    },
    "colab_type": "code",
    "id": "21lJjC5LhVNC",
    "outputId": "721d2602-391e-4994-f453-b8ec6147682d"
   },
   "outputs": [
    {
     "name": "stdout",
     "output_type": "stream",
     "text": [
      "\u001b[K    100% |████████████████████████████████| 81kB 6.8MB/s \n",
      "\u001b[K    100% |████████████████████████████████| 5.3MB 5.8MB/s \n",
      "\u001b[K    100% |████████████████████████████████| 92kB 26.2MB/s \n",
      "\u001b[K    100% |████████████████████████████████| 51kB 17.9MB/s \n",
      "\u001b[?25h  Building wheel for kaggle-cli (setup.py) ... \u001b[?25ldone\n",
      "\u001b[?25h  Building wheel for cliff (setup.py) ... \u001b[?25ldone\n",
      "\u001b[?25h  Building wheel for pyperclip (setup.py) ... \u001b[?25ldone\n",
      "\u001b[?25h"
     ]
    }
   ],
   "source": [
    "!pip install -q kaggle\n",
    "!pip install -q kaggle-cli"
   ]
  },
  {
   "cell_type": "code",
   "execution_count": 21,
   "metadata": {
    "colab": {
     "base_uri": "https://localhost:8080/",
     "height": 68
    },
    "colab_type": "code",
    "id": "mdpYxXb6hYL4",
    "outputId": "9a4c9f29-d20c-45ff-cae8-decb1d257769"
   },
   "outputs": [
    {
     "name": "stdout",
     "output_type": "stream",
     "text": [
      "Downloading sf-police-calls-for-service-and-incidents.zip to /content\n",
      " 96% 162M/169M [00:02<00:00, 54.6MB/s]\n",
      "100% 169M/169M [00:02<00:00, 65.0MB/s]\n"
     ]
    }
   ],
   "source": [
    "!kaggle datasets download -d san-francisco/sf-police-calls-for-service-and-incidents"
   ]
  },
  {
   "cell_type": "code",
   "execution_count": 22,
   "metadata": {
    "colab": {
     "base_uri": "https://localhost:8080/",
     "height": 136
    },
    "colab_type": "code",
    "id": "qoDB-rSQh1Dq",
    "outputId": "b1bc2bf3-cf2c-451a-9b4a-458fc6b1a246"
   },
   "outputs": [
    {
     "name": "stdout",
     "output_type": "stream",
     "text": [
      "Archive:  sf-police-calls-for-service-and-incidents.zip\n",
      "  inflating: socrata_metadata_police-department-incidents.json  \n",
      "  inflating: police-department-incidents.csv  \n",
      "  inflating: Radio Codes 2016.xlsx   \n",
      "  inflating: police-department-calls-for-service.csv  \n",
      "  inflating: socrata_metadata_police-department-calls-for-service.json  \n",
      "  inflating: 20180416_Dataset_Change_Notice_-_Police_Incidents.pdf  \n"
     ]
    }
   ],
   "source": [
    "!unzip sf-police-calls-for-service-and-incidents.zip"
   ]
  },
  {
   "cell_type": "code",
   "execution_count": 0,
   "metadata": {
    "colab": {},
    "colab_type": "code",
    "id": "Pl4XPw69h9h0"
   },
   "outputs": [],
   "source": [
    "!rm sf-police-calls-for-service-and-incidents.zip"
   ]
  },
  {
   "cell_type": "code",
   "execution_count": 0,
   "metadata": {
    "colab": {},
    "colab_type": "code",
    "id": "Yp34JNQAiAZE"
   },
   "outputs": [],
   "source": [
    "import pandas as pd\n",
    "calls_for_services = pd.read_csv(\"police-department-calls-for-service.csv\")\n",
    "incidents = pd.read_csv(\"police-department-incidents.csv\")"
   ]
  },
  {
   "cell_type": "code",
   "execution_count": 31,
   "metadata": {
    "colab": {
     "base_uri": "https://localhost:8080/",
     "height": 668
    },
    "colab_type": "code",
    "id": "6Cd_X8eMiU5q",
    "outputId": "92cc9e51-a794-40df-f731-458cd214ad12"
   },
   "outputs": [
    {
     "data": {
      "text/html": [
       "<div>\n",
       "<style scoped>\n",
       "    .dataframe tbody tr th:only-of-type {\n",
       "        vertical-align: middle;\n",
       "    }\n",
       "\n",
       "    .dataframe tbody tr th {\n",
       "        vertical-align: top;\n",
       "    }\n",
       "\n",
       "    .dataframe thead th {\n",
       "        text-align: right;\n",
       "    }\n",
       "</style>\n",
       "<table border=\"1\" class=\"dataframe\">\n",
       "  <thead>\n",
       "    <tr style=\"text-align: right;\">\n",
       "      <th></th>\n",
       "      <th>Crime Id</th>\n",
       "      <th>Original Crime Type Name</th>\n",
       "      <th>Report Date</th>\n",
       "      <th>Call Date</th>\n",
       "      <th>Offense Date</th>\n",
       "      <th>Call Time</th>\n",
       "      <th>Call Date Time</th>\n",
       "      <th>Disposition</th>\n",
       "      <th>Address</th>\n",
       "      <th>City</th>\n",
       "      <th>State</th>\n",
       "      <th>Agency Id</th>\n",
       "      <th>Address Type</th>\n",
       "      <th>Common Location</th>\n",
       "    </tr>\n",
       "  </thead>\n",
       "  <tbody>\n",
       "    <tr>\n",
       "      <th>0</th>\n",
       "      <td>183653763</td>\n",
       "      <td>Traffic Stop</td>\n",
       "      <td>2018-12-31T00:00:00.000</td>\n",
       "      <td>2018-12-31T00:00:00.000</td>\n",
       "      <td>2018-12-31T00:00:00.000</td>\n",
       "      <td>23:57</td>\n",
       "      <td>2018-12-31T23:57:00.000</td>\n",
       "      <td>ADM</td>\n",
       "      <td>Geary Bl/divisadero St</td>\n",
       "      <td>San Francisco</td>\n",
       "      <td>CA</td>\n",
       "      <td>1</td>\n",
       "      <td>Intersection</td>\n",
       "      <td>NaN</td>\n",
       "    </tr>\n",
       "    <tr>\n",
       "      <th>1</th>\n",
       "      <td>183653756</td>\n",
       "      <td>Traf Violation Cite</td>\n",
       "      <td>2018-12-31T00:00:00.000</td>\n",
       "      <td>2018-12-31T00:00:00.000</td>\n",
       "      <td>2018-12-31T00:00:00.000</td>\n",
       "      <td>23:54</td>\n",
       "      <td>2018-12-31T23:54:00.000</td>\n",
       "      <td>CIT</td>\n",
       "      <td>100 Blk Howard St</td>\n",
       "      <td>San Francisco</td>\n",
       "      <td>CA</td>\n",
       "      <td>1</td>\n",
       "      <td>Geo-Override</td>\n",
       "      <td>NaN</td>\n",
       "    </tr>\n",
       "    <tr>\n",
       "      <th>2</th>\n",
       "      <td>183653746</td>\n",
       "      <td>Passing Call</td>\n",
       "      <td>2018-12-31T00:00:00.000</td>\n",
       "      <td>2018-12-31T00:00:00.000</td>\n",
       "      <td>2018-12-31T00:00:00.000</td>\n",
       "      <td>23:49</td>\n",
       "      <td>2018-12-31T23:49:00.000</td>\n",
       "      <td>HAN</td>\n",
       "      <td>3300 Block Of 20th Av</td>\n",
       "      <td>San Francisco</td>\n",
       "      <td>CA</td>\n",
       "      <td>1</td>\n",
       "      <td>Common Location</td>\n",
       "      <td>Stonestown Galleria, Sf</td>\n",
       "    </tr>\n",
       "    <tr>\n",
       "      <th>3</th>\n",
       "      <td>183653745</td>\n",
       "      <td>Audible Alarm</td>\n",
       "      <td>2018-12-31T00:00:00.000</td>\n",
       "      <td>2018-12-31T00:00:00.000</td>\n",
       "      <td>2018-12-31T00:00:00.000</td>\n",
       "      <td>23:47</td>\n",
       "      <td>2018-12-31T23:47:00.000</td>\n",
       "      <td>PAS</td>\n",
       "      <td>1900 Block Of 18th Av</td>\n",
       "      <td>San Francisco</td>\n",
       "      <td>CA</td>\n",
       "      <td>1</td>\n",
       "      <td>Premise Address</td>\n",
       "      <td>NaN</td>\n",
       "    </tr>\n",
       "    <tr>\n",
       "      <th>4</th>\n",
       "      <td>183653737</td>\n",
       "      <td>Traffic Stop</td>\n",
       "      <td>2018-12-31T00:00:00.000</td>\n",
       "      <td>2018-12-31T00:00:00.000</td>\n",
       "      <td>2018-12-31T00:00:00.000</td>\n",
       "      <td>23:46</td>\n",
       "      <td>2018-12-31T23:46:00.000</td>\n",
       "      <td>CIT</td>\n",
       "      <td>Sansome St/chestnut St</td>\n",
       "      <td>San Francisco</td>\n",
       "      <td>CA</td>\n",
       "      <td>1</td>\n",
       "      <td>Intersection</td>\n",
       "      <td>NaN</td>\n",
       "    </tr>\n",
       "    <tr>\n",
       "      <th>5</th>\n",
       "      <td>183653722</td>\n",
       "      <td>Traffic Stop</td>\n",
       "      <td>2018-12-31T00:00:00.000</td>\n",
       "      <td>2018-12-31T00:00:00.000</td>\n",
       "      <td>2018-12-31T00:00:00.000</td>\n",
       "      <td>23:38</td>\n",
       "      <td>2018-12-31T23:38:00.000</td>\n",
       "      <td>CIT</td>\n",
       "      <td>Geary Bl/parker Av</td>\n",
       "      <td>San Francisco</td>\n",
       "      <td>CA</td>\n",
       "      <td>1</td>\n",
       "      <td>Intersection</td>\n",
       "      <td>NaN</td>\n",
       "    </tr>\n",
       "    <tr>\n",
       "      <th>6</th>\n",
       "      <td>183653719</td>\n",
       "      <td>Passing Call</td>\n",
       "      <td>2018-12-31T00:00:00.000</td>\n",
       "      <td>2018-12-31T00:00:00.000</td>\n",
       "      <td>2018-12-31T00:00:00.000</td>\n",
       "      <td>23:38</td>\n",
       "      <td>2018-12-31T23:38:00.000</td>\n",
       "      <td>ND</td>\n",
       "      <td>Haight St/fillmore St</td>\n",
       "      <td>San Francisco</td>\n",
       "      <td>CA</td>\n",
       "      <td>1</td>\n",
       "      <td>Intersection</td>\n",
       "      <td>NaN</td>\n",
       "    </tr>\n",
       "    <tr>\n",
       "      <th>7</th>\n",
       "      <td>183653711</td>\n",
       "      <td>Traffic Stop</td>\n",
       "      <td>2018-12-31T00:00:00.000</td>\n",
       "      <td>2018-12-31T00:00:00.000</td>\n",
       "      <td>2018-12-31T00:00:00.000</td>\n",
       "      <td>23:36</td>\n",
       "      <td>2018-12-31T23:36:00.000</td>\n",
       "      <td>HAN</td>\n",
       "      <td>Battery St/union St</td>\n",
       "      <td>San Francisco</td>\n",
       "      <td>CA</td>\n",
       "      <td>1</td>\n",
       "      <td>Intersection</td>\n",
       "      <td>NaN</td>\n",
       "    </tr>\n",
       "    <tr>\n",
       "      <th>8</th>\n",
       "      <td>183653706</td>\n",
       "      <td>Passing Call</td>\n",
       "      <td>2018-12-31T00:00:00.000</td>\n",
       "      <td>2018-12-31T00:00:00.000</td>\n",
       "      <td>2018-12-31T00:00:00.000</td>\n",
       "      <td>23:34</td>\n",
       "      <td>2018-12-31T23:34:00.000</td>\n",
       "      <td>Not recorded</td>\n",
       "      <td>1500 Block Of Haight St</td>\n",
       "      <td>San Francisco</td>\n",
       "      <td>CA</td>\n",
       "      <td>1</td>\n",
       "      <td>Common Location</td>\n",
       "      <td>Haight St Corridor, Sf</td>\n",
       "    </tr>\n",
       "    <tr>\n",
       "      <th>9</th>\n",
       "      <td>183653700</td>\n",
       "      <td>Passing Call</td>\n",
       "      <td>2018-12-31T00:00:00.000</td>\n",
       "      <td>2018-12-31T00:00:00.000</td>\n",
       "      <td>2018-12-31T00:00:00.000</td>\n",
       "      <td>23:33</td>\n",
       "      <td>2018-12-31T23:33:00.000</td>\n",
       "      <td>HAN</td>\n",
       "      <td>3100 Block Of Mission St</td>\n",
       "      <td>San Francisco</td>\n",
       "      <td>CA</td>\n",
       "      <td>1</td>\n",
       "      <td>Common Location</td>\n",
       "      <td>Roccapulco, Sf</td>\n",
       "    </tr>\n",
       "  </tbody>\n",
       "</table>\n",
       "</div>"
      ],
      "text/plain": [
       "    Crime Id Original Crime Type Name              Report Date  \\\n",
       "0  183653763             Traffic Stop  2018-12-31T00:00:00.000   \n",
       "1  183653756      Traf Violation Cite  2018-12-31T00:00:00.000   \n",
       "2  183653746             Passing Call  2018-12-31T00:00:00.000   \n",
       "3  183653745            Audible Alarm  2018-12-31T00:00:00.000   \n",
       "4  183653737             Traffic Stop  2018-12-31T00:00:00.000   \n",
       "5  183653722             Traffic Stop  2018-12-31T00:00:00.000   \n",
       "6  183653719             Passing Call  2018-12-31T00:00:00.000   \n",
       "7  183653711             Traffic Stop  2018-12-31T00:00:00.000   \n",
       "8  183653706             Passing Call  2018-12-31T00:00:00.000   \n",
       "9  183653700             Passing Call  2018-12-31T00:00:00.000   \n",
       "\n",
       "                 Call Date             Offense Date Call Time  \\\n",
       "0  2018-12-31T00:00:00.000  2018-12-31T00:00:00.000     23:57   \n",
       "1  2018-12-31T00:00:00.000  2018-12-31T00:00:00.000     23:54   \n",
       "2  2018-12-31T00:00:00.000  2018-12-31T00:00:00.000     23:49   \n",
       "3  2018-12-31T00:00:00.000  2018-12-31T00:00:00.000     23:47   \n",
       "4  2018-12-31T00:00:00.000  2018-12-31T00:00:00.000     23:46   \n",
       "5  2018-12-31T00:00:00.000  2018-12-31T00:00:00.000     23:38   \n",
       "6  2018-12-31T00:00:00.000  2018-12-31T00:00:00.000     23:38   \n",
       "7  2018-12-31T00:00:00.000  2018-12-31T00:00:00.000     23:36   \n",
       "8  2018-12-31T00:00:00.000  2018-12-31T00:00:00.000     23:34   \n",
       "9  2018-12-31T00:00:00.000  2018-12-31T00:00:00.000     23:33   \n",
       "\n",
       "            Call Date Time   Disposition                   Address  \\\n",
       "0  2018-12-31T23:57:00.000           ADM    Geary Bl/divisadero St   \n",
       "1  2018-12-31T23:54:00.000           CIT         100 Blk Howard St   \n",
       "2  2018-12-31T23:49:00.000           HAN     3300 Block Of 20th Av   \n",
       "3  2018-12-31T23:47:00.000           PAS     1900 Block Of 18th Av   \n",
       "4  2018-12-31T23:46:00.000           CIT    Sansome St/chestnut St   \n",
       "5  2018-12-31T23:38:00.000           CIT        Geary Bl/parker Av   \n",
       "6  2018-12-31T23:38:00.000            ND     Haight St/fillmore St   \n",
       "7  2018-12-31T23:36:00.000           HAN       Battery St/union St   \n",
       "8  2018-12-31T23:34:00.000  Not recorded   1500 Block Of Haight St   \n",
       "9  2018-12-31T23:33:00.000           HAN  3100 Block Of Mission St   \n",
       "\n",
       "            City State  Agency Id     Address Type          Common Location  \n",
       "0  San Francisco    CA          1     Intersection                      NaN  \n",
       "1  San Francisco    CA          1     Geo-Override                      NaN  \n",
       "2  San Francisco    CA          1  Common Location  Stonestown Galleria, Sf  \n",
       "3  San Francisco    CA          1  Premise Address                      NaN  \n",
       "4  San Francisco    CA          1     Intersection                      NaN  \n",
       "5  San Francisco    CA          1     Intersection                      NaN  \n",
       "6  San Francisco    CA          1     Intersection                      NaN  \n",
       "7  San Francisco    CA          1     Intersection                      NaN  \n",
       "8  San Francisco    CA          1  Common Location   Haight St Corridor, Sf  \n",
       "9  San Francisco    CA          1  Common Location           Roccapulco, Sf  "
      ]
     },
     "execution_count": 31,
     "metadata": {
      "tags": []
     },
     "output_type": "execute_result"
    }
   ],
   "source": [
    "calls_for_services.head(10)"
   ]
  },
  {
   "cell_type": "code",
   "execution_count": 32,
   "metadata": {
    "colab": {
     "base_uri": "https://localhost:8080/",
     "height": 838
    },
    "colab_type": "code",
    "id": "QWvYNqhfjOnF",
    "outputId": "027f07f5-cf9a-4548-d287-95ed6529c07b"
   },
   "outputs": [
    {
     "data": {
      "text/html": [
       "<div>\n",
       "<style scoped>\n",
       "    .dataframe tbody tr th:only-of-type {\n",
       "        vertical-align: middle;\n",
       "    }\n",
       "\n",
       "    .dataframe tbody tr th {\n",
       "        vertical-align: top;\n",
       "    }\n",
       "\n",
       "    .dataframe thead th {\n",
       "        text-align: right;\n",
       "    }\n",
       "</style>\n",
       "<table border=\"1\" class=\"dataframe\">\n",
       "  <thead>\n",
       "    <tr style=\"text-align: right;\">\n",
       "      <th></th>\n",
       "      <th>IncidntNum</th>\n",
       "      <th>Category</th>\n",
       "      <th>Descript</th>\n",
       "      <th>DayOfWeek</th>\n",
       "      <th>Date</th>\n",
       "      <th>Time</th>\n",
       "      <th>PdDistrict</th>\n",
       "      <th>Resolution</th>\n",
       "      <th>Address</th>\n",
       "      <th>X</th>\n",
       "      <th>Y</th>\n",
       "      <th>Location</th>\n",
       "      <th>PdId</th>\n",
       "    </tr>\n",
       "  </thead>\n",
       "  <tbody>\n",
       "    <tr>\n",
       "      <th>0</th>\n",
       "      <td>50436712</td>\n",
       "      <td>ASSAULT</td>\n",
       "      <td>BATTERY</td>\n",
       "      <td>Wednesday</td>\n",
       "      <td>2005-04-20T00:00:00</td>\n",
       "      <td>04:00</td>\n",
       "      <td>MISSION</td>\n",
       "      <td>NONE</td>\n",
       "      <td>18TH ST / CASTRO ST</td>\n",
       "      <td>-122.435003</td>\n",
       "      <td>37.760888</td>\n",
       "      <td>{'longitude': '-122.435002864271', 'latitude':...</td>\n",
       "      <td>5043671204134</td>\n",
       "    </tr>\n",
       "    <tr>\n",
       "      <th>1</th>\n",
       "      <td>80049078</td>\n",
       "      <td>LARCENY/THEFT</td>\n",
       "      <td>GRAND THEFT FROM A BUILDING</td>\n",
       "      <td>Sunday</td>\n",
       "      <td>2008-01-13T00:00:00</td>\n",
       "      <td>18:00</td>\n",
       "      <td>PARK</td>\n",
       "      <td>NONE</td>\n",
       "      <td>1100 Block of CLAYTON ST</td>\n",
       "      <td>-122.446838</td>\n",
       "      <td>37.762255</td>\n",
       "      <td>{'longitude': '-122.446837820235', 'latitude':...</td>\n",
       "      <td>8004907806304</td>\n",
       "    </tr>\n",
       "    <tr>\n",
       "      <th>2</th>\n",
       "      <td>130366639</td>\n",
       "      <td>ASSAULT</td>\n",
       "      <td>AGGRAVATED ASSAULT WITH A KNIFE</td>\n",
       "      <td>Sunday</td>\n",
       "      <td>2013-05-05T00:00:00</td>\n",
       "      <td>04:10</td>\n",
       "      <td>INGLESIDE</td>\n",
       "      <td>ARREST, BOOKED</td>\n",
       "      <td>0 Block of SGTJOHNVYOUNG LN</td>\n",
       "      <td>-122.444707</td>\n",
       "      <td>37.724931</td>\n",
       "      <td>{'longitude': '-122.444707063455', 'latitude':...</td>\n",
       "      <td>13036663904012</td>\n",
       "    </tr>\n",
       "    <tr>\n",
       "      <th>3</th>\n",
       "      <td>30810835</td>\n",
       "      <td>DRIVING UNDER THE INFLUENCE</td>\n",
       "      <td>DRIVING WHILE UNDER THE INFLUENCE OF ALCOHOL</td>\n",
       "      <td>Tuesday</td>\n",
       "      <td>2003-07-08T00:00:00</td>\n",
       "      <td>01:00</td>\n",
       "      <td>SOUTHERN</td>\n",
       "      <td>ARREST, BOOKED</td>\n",
       "      <td>MASON ST / TURK ST</td>\n",
       "      <td>-122.408954</td>\n",
       "      <td>37.783288</td>\n",
       "      <td>{'longitude': '-122.408953598286', 'latitude':...</td>\n",
       "      <td>3081083565050</td>\n",
       "    </tr>\n",
       "    <tr>\n",
       "      <th>4</th>\n",
       "      <td>130839567</td>\n",
       "      <td>OTHER OFFENSES</td>\n",
       "      <td>TRAFFIC VIOLATION ARREST</td>\n",
       "      <td>Friday</td>\n",
       "      <td>2013-10-04T00:00:00</td>\n",
       "      <td>20:53</td>\n",
       "      <td>TENDERLOIN</td>\n",
       "      <td>ARREST, BOOKED</td>\n",
       "      <td>TURK ST / LEAVENWORTH ST</td>\n",
       "      <td>-122.414056</td>\n",
       "      <td>37.782793</td>\n",
       "      <td>{'longitude': '-122.414056291891', 'latitude':...</td>\n",
       "      <td>13083956765010</td>\n",
       "    </tr>\n",
       "    <tr>\n",
       "      <th>5</th>\n",
       "      <td>70838580</td>\n",
       "      <td>BURGLARY</td>\n",
       "      <td>BURGLARY OF APARTMENT HOUSE, UNLAWFUL ENTRY</td>\n",
       "      <td>Tuesday</td>\n",
       "      <td>2007-08-14T00:00:00</td>\n",
       "      <td>07:00</td>\n",
       "      <td>NORTHERN</td>\n",
       "      <td>NONE</td>\n",
       "      <td>3100 Block of FRANKLIN ST</td>\n",
       "      <td>-122.426731</td>\n",
       "      <td>37.803467</td>\n",
       "      <td>{'longitude': '-122.426730544229', 'latitude':...</td>\n",
       "      <td>7083858005013</td>\n",
       "    </tr>\n",
       "    <tr>\n",
       "      <th>6</th>\n",
       "      <td>80233102</td>\n",
       "      <td>DRUG/NARCOTIC</td>\n",
       "      <td>POSSESSION OF MARIJUANA</td>\n",
       "      <td>Tuesday</td>\n",
       "      <td>2008-03-04T00:00:00</td>\n",
       "      <td>14:23</td>\n",
       "      <td>INGLESIDE</td>\n",
       "      <td>ARREST, CITED</td>\n",
       "      <td>MISSION ST / PERSIA AV</td>\n",
       "      <td>-122.435977</td>\n",
       "      <td>37.723129</td>\n",
       "      <td>{'longitude': '-122.43597721703', 'latitude': ...</td>\n",
       "      <td>8023310216010</td>\n",
       "    </tr>\n",
       "    <tr>\n",
       "      <th>7</th>\n",
       "      <td>60711805</td>\n",
       "      <td>OTHER OFFENSES</td>\n",
       "      <td>DRIVERS LICENSE, SUSPENDED OR REVOKED</td>\n",
       "      <td>Wednesday</td>\n",
       "      <td>2006-07-05T00:00:00</td>\n",
       "      <td>15:50</td>\n",
       "      <td>INGLESIDE</td>\n",
       "      <td>ARREST, CITED</td>\n",
       "      <td>2300 Block of SAN JOSE AV</td>\n",
       "      <td>-122.447241</td>\n",
       "      <td>37.720158</td>\n",
       "      <td>{'longitude': '-122.447241159611', 'latitude':...</td>\n",
       "      <td>6071180565016</td>\n",
       "    </tr>\n",
       "    <tr>\n",
       "      <th>8</th>\n",
       "      <td>40062593</td>\n",
       "      <td>LARCENY/THEFT</td>\n",
       "      <td>GRAND THEFT FROM A BUILDING</td>\n",
       "      <td>Wednesday</td>\n",
       "      <td>2003-12-10T00:00:00</td>\n",
       "      <td>09:30</td>\n",
       "      <td>INGLESIDE</td>\n",
       "      <td>NONE</td>\n",
       "      <td>0 Block of MOFFITT ST</td>\n",
       "      <td>-122.432788</td>\n",
       "      <td>37.737157</td>\n",
       "      <td>{'longitude': '-122.432787775164', 'latitude':...</td>\n",
       "      <td>4006259306304</td>\n",
       "    </tr>\n",
       "    <tr>\n",
       "      <th>9</th>\n",
       "      <td>110051822</td>\n",
       "      <td>NON-CRIMINAL</td>\n",
       "      <td>STAY AWAY OR COURT ORDER, NON-DV RELATED</td>\n",
       "      <td>Monday</td>\n",
       "      <td>2011-01-17T00:00:00</td>\n",
       "      <td>15:35</td>\n",
       "      <td>INGLESIDE</td>\n",
       "      <td>NONE</td>\n",
       "      <td>600 Block of CAMPBELL AV</td>\n",
       "      <td>-122.408761</td>\n",
       "      <td>37.715900</td>\n",
       "      <td>{'longitude': '-122.408761072232', 'latitude':...</td>\n",
       "      <td>11005182271024</td>\n",
       "    </tr>\n",
       "  </tbody>\n",
       "</table>\n",
       "</div>"
      ],
      "text/plain": [
       "   IncidntNum                     Category  \\\n",
       "0    50436712                      ASSAULT   \n",
       "1    80049078                LARCENY/THEFT   \n",
       "2   130366639                      ASSAULT   \n",
       "3    30810835  DRIVING UNDER THE INFLUENCE   \n",
       "4   130839567               OTHER OFFENSES   \n",
       "5    70838580                     BURGLARY   \n",
       "6    80233102                DRUG/NARCOTIC   \n",
       "7    60711805               OTHER OFFENSES   \n",
       "8    40062593                LARCENY/THEFT   \n",
       "9   110051822                 NON-CRIMINAL   \n",
       "\n",
       "                                       Descript  DayOfWeek  \\\n",
       "0                                       BATTERY  Wednesday   \n",
       "1                   GRAND THEFT FROM A BUILDING     Sunday   \n",
       "2               AGGRAVATED ASSAULT WITH A KNIFE     Sunday   \n",
       "3  DRIVING WHILE UNDER THE INFLUENCE OF ALCOHOL    Tuesday   \n",
       "4                      TRAFFIC VIOLATION ARREST     Friday   \n",
       "5   BURGLARY OF APARTMENT HOUSE, UNLAWFUL ENTRY    Tuesday   \n",
       "6                       POSSESSION OF MARIJUANA    Tuesday   \n",
       "7         DRIVERS LICENSE, SUSPENDED OR REVOKED  Wednesday   \n",
       "8                   GRAND THEFT FROM A BUILDING  Wednesday   \n",
       "9      STAY AWAY OR COURT ORDER, NON-DV RELATED     Monday   \n",
       "\n",
       "                  Date   Time  PdDistrict      Resolution  \\\n",
       "0  2005-04-20T00:00:00  04:00     MISSION            NONE   \n",
       "1  2008-01-13T00:00:00  18:00        PARK            NONE   \n",
       "2  2013-05-05T00:00:00  04:10   INGLESIDE  ARREST, BOOKED   \n",
       "3  2003-07-08T00:00:00  01:00    SOUTHERN  ARREST, BOOKED   \n",
       "4  2013-10-04T00:00:00  20:53  TENDERLOIN  ARREST, BOOKED   \n",
       "5  2007-08-14T00:00:00  07:00    NORTHERN            NONE   \n",
       "6  2008-03-04T00:00:00  14:23   INGLESIDE   ARREST, CITED   \n",
       "7  2006-07-05T00:00:00  15:50   INGLESIDE   ARREST, CITED   \n",
       "8  2003-12-10T00:00:00  09:30   INGLESIDE            NONE   \n",
       "9  2011-01-17T00:00:00  15:35   INGLESIDE            NONE   \n",
       "\n",
       "                       Address           X          Y  \\\n",
       "0          18TH ST / CASTRO ST -122.435003  37.760888   \n",
       "1     1100 Block of CLAYTON ST -122.446838  37.762255   \n",
       "2  0 Block of SGTJOHNVYOUNG LN -122.444707  37.724931   \n",
       "3           MASON ST / TURK ST -122.408954  37.783288   \n",
       "4     TURK ST / LEAVENWORTH ST -122.414056  37.782793   \n",
       "5    3100 Block of FRANKLIN ST -122.426731  37.803467   \n",
       "6       MISSION ST / PERSIA AV -122.435977  37.723129   \n",
       "7    2300 Block of SAN JOSE AV -122.447241  37.720158   \n",
       "8        0 Block of MOFFITT ST -122.432788  37.737157   \n",
       "9     600 Block of CAMPBELL AV -122.408761  37.715900   \n",
       "\n",
       "                                            Location            PdId  \n",
       "0  {'longitude': '-122.435002864271', 'latitude':...   5043671204134  \n",
       "1  {'longitude': '-122.446837820235', 'latitude':...   8004907806304  \n",
       "2  {'longitude': '-122.444707063455', 'latitude':...  13036663904012  \n",
       "3  {'longitude': '-122.408953598286', 'latitude':...   3081083565050  \n",
       "4  {'longitude': '-122.414056291891', 'latitude':...  13083956765010  \n",
       "5  {'longitude': '-122.426730544229', 'latitude':...   7083858005013  \n",
       "6  {'longitude': '-122.43597721703', 'latitude': ...   8023310216010  \n",
       "7  {'longitude': '-122.447241159611', 'latitude':...   6071180565016  \n",
       "8  {'longitude': '-122.432787775164', 'latitude':...   4006259306304  \n",
       "9  {'longitude': '-122.408761072232', 'latitude':...  11005182271024  "
      ]
     },
     "execution_count": 32,
     "metadata": {
      "tags": []
     },
     "output_type": "execute_result"
    }
   ],
   "source": [
    "incidents.head(10)"
   ]
  },
  {
   "cell_type": "markdown",
   "metadata": {
    "colab_type": "text",
    "id": "O_1jUbtkj8E3"
   },
   "source": [
    "At the very first look, I saw that in order to combine these two files, I would need to some how translate address to lat long. first idea is to use Geopy. Attemp:"
   ]
  },
  {
   "cell_type": "code",
   "execution_count": 33,
   "metadata": {
    "colab": {
     "base_uri": "https://localhost:8080/",
     "height": 71
    },
    "colab_type": "code",
    "id": "HJZRnjU5kNpF",
    "outputId": "e3c4a5f3-4257-4e4f-9780-3086d5a6db73"
   },
   "outputs": [
    {
     "name": "stdout",
     "output_type": "stream",
     "text": [
      "Requirement already satisfied: geopy in /usr/local/lib/python3.6/dist-packages (1.17.0)\n",
      "Requirement already satisfied: geographiclib<2,>=1.49 in /usr/local/lib/python3.6/dist-packages (from geopy) (1.49)\n"
     ]
    }
   ],
   "source": [
    "!pip install geopy"
   ]
  },
  {
   "cell_type": "code",
   "execution_count": 0,
   "metadata": {
    "colab": {},
    "colab_type": "code",
    "id": "9rAAcrRAkRQd"
   },
   "outputs": [],
   "source": [
    "from geopy.geocoders import Nominatim\n",
    "locator = Nominatim(user_agent=\"crimepred\")"
   ]
  },
  {
   "cell_type": "code",
   "execution_count": 43,
   "metadata": {
    "colab": {
     "base_uri": "https://localhost:8080/",
     "height": 34
    },
    "colab_type": "code",
    "id": "mVeZ_gqzl3mw",
    "outputId": "99b67872-3915-4885-bd4d-74e0d691ce97"
   },
   "outputs": [
    {
     "name": "stdout",
     "output_type": "stream",
     "text": [
      "Geary Bl/divisadero St\n"
     ]
    }
   ],
   "source": [
    "add_temp = calls_for_services[\"Address\"][0]\n",
    "print(add_temp)"
   ]
  },
  {
   "cell_type": "code",
   "execution_count": 45,
   "metadata": {
    "colab": {
     "base_uri": "https://localhost:8080/",
     "height": 51
    },
    "colab_type": "code",
    "id": "i0--XRfQl_2M",
    "outputId": "87958b23-9ad7-4576-b22d-24865ae69a79"
   },
   "outputs": [
    {
     "name": "stdout",
     "output_type": "stream",
     "text": [
      "Divisadero Street & Geary Boulevard, Divisadero Street, Western Addition, SF, California, 94115, USA\n",
      "37.7829535 -122.439528\n"
     ]
    }
   ],
   "source": [
    "longla = locator.geocode(add_temp)\n",
    "print(longla)\n",
    "print(longla.latitude, longla.longitude)"
   ]
  },
  {
   "cell_type": "markdown",
   "metadata": {
    "colab_type": "text",
    "id": "JnYq1syemclH"
   },
   "source": [
    "SUCCESS!!! Note how Geary Boulevard only written as Geary Bl and this is an intersection, not even an exact location but this can return longlitude and latitude. GREAT!!"
   ]
  }
 ],
 "metadata": {
  "accelerator": "GPU",
  "colab": {
   "collapsed_sections": [],
   "include_colab_link": true,
   "name": "Crime_Prediction_initial_start_Tin.ipynb",
   "provenance": [],
   "version": "0.3.2"
  },
  "kernelspec": {
   "display_name": "Python 3",
   "language": "python",
   "name": "python3"
  },
  "language_info": {
   "codemirror_mode": {
    "name": "ipython",
    "version": 3
   },
   "file_extension": ".py",
   "mimetype": "text/x-python",
   "name": "python",
   "nbconvert_exporter": "python",
   "pygments_lexer": "ipython3",
   "version": "3.7.1"
  }
 },
 "nbformat": 4,
 "nbformat_minor": 1
}
